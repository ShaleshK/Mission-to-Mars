{
 "cells": [
  {
   "cell_type": "code",
   "execution_count": 1,
   "metadata": {},
   "outputs": [],
   "source": [
    "from bs4 import BeautifulSoup as bs\n",
    "import requests\n",
    "import pandas as pd\n",
    "from splinter import Browser"
   ]
  },
  {
   "cell_type": "code",
   "execution_count": 2,
   "metadata": {},
   "outputs": [],
   "source": [
    "executable_path = {'executable_path': 'chromedriver.exe'}\n",
    "browser = Browser('chrome', **executable_path, headless=False)"
   ]
  },
  {
   "cell_type": "code",
   "execution_count": 3,
   "metadata": {},
   "outputs": [
    {
     "data": {
      "text/plain": [
       "'/spaceimages/images/largesize/PIA16726_hires.jpg'"
      ]
     },
     "execution_count": 3,
     "metadata": {},
     "output_type": "execute_result"
    }
   ],
   "source": [
    "url = 'https://www.jpl.nasa.gov/spaceimages/?search=&category=Mars'\n",
    "browser.visit(url)\n",
    "full_image_a = browser.find_by_id('full_image')\n",
    "full_image_a.click()\n",
    "browser.is_element_present_by_text('more info',wait_time=1)\n",
    "more_info_a = browser.find_link_by_partial_text('more info')\n",
    "more_info_a.click()\n",
    "html = browser.html\n",
    "soup = bs(html, 'html.parser')\n",
    "# featured_image_url = soup.select_one(\"article.carousel_item\").get(\"style\")\n",
    "# featured_image_url.split('(')[1].split(\"'\")[1]\n",
    "featured_image_url = soup.select_one('figure.lede a img').get('src')\n",
    "featured_image_url"
   ]
  },
  {
   "cell_type": "code",
   "execution_count": 4,
   "metadata": {},
   "outputs": [
    {
     "data": {
      "text/plain": [
       "'https://jpl.nasa.gov/spaceimages/images/largesize/PIA16726_hires.jpg'"
      ]
     },
     "execution_count": 4,
     "metadata": {},
     "output_type": "execute_result"
    }
   ],
   "source": [
    "image_url = f'https://jpl.nasa.gov{featured_image_url}'\n",
    "image_url"
   ]
  },
  {
   "cell_type": "code",
   "execution_count": 6,
   "metadata": {},
   "outputs": [
    {
     "data": {
      "text/plain": [
       "\"NASA's Briefcase-Size MarCO Satellite Picks Up Honors\""
      ]
     },
     "execution_count": 6,
     "metadata": {},
     "output_type": "execute_result"
    }
   ],
   "source": [
    "url = 'https://mars.nasa.gov/news/'\n",
    "browser.visit(url)\n",
    "html = browser.html\n",
    "soup = bs(html, 'html.parser')\n",
    "slide = soup.select_one('ul.item_list li.slide')\n",
    "news_title = slide.find('div', class_=\"content_title\").get_text()\n",
    "news_title"
   ]
  },
  {
   "cell_type": "code",
   "execution_count": 7,
   "metadata": {},
   "outputs": [
    {
     "data": {
      "text/plain": [
       "'The twin spacecraft, the first of their kind to fly into deep space, earn a Laureate from Aviation Week & Space Technology.'"
      ]
     },
     "execution_count": 7,
     "metadata": {},
     "output_type": "execute_result"
    }
   ],
   "source": [
    "news_p = slide.find('div', class_=\"article_teaser_body\").text\n",
    "news_p"
   ]
  },
  {
   "cell_type": "code",
   "execution_count": 8,
   "metadata": {},
   "outputs": [
    {
     "data": {
      "text/plain": [
       "'InSight sol 360 (2019-12-01) low -100.1ºC (-148.3ºF) high -20.6ºC (-5.1ºF)winds from the SSE at 5.0 m/s (11.2 mph) gusting to 19.5 m/s (43.7 mph)pressure at 6.70 hPapic.twitter.com/YLEhj8gQGi'"
      ]
     },
     "execution_count": 8,
     "metadata": {},
     "output_type": "execute_result"
    }
   ],
   "source": [
    "url = 'https://twitter.com/marswxreport?lang=en'\n",
    "response = requests.get(url)\n",
    "soup = bs(response.text, 'html.parser')\n",
    "#tweet = soup.find('div',attrs={\"class\":\"tweet\",\"data-name\":\"Mars Weather\"})\n",
    "# mars_weather = tweet.find('p','tweet-text').text\n",
    "# mars_weather\n",
    "tweet = soup.find('div',class_='js-tweet-text-container').text\n",
    "mars_weather = tweet.translate({ord(c): None for c in '\\n'})\n",
    "mars_weather"
   ]
  },
  {
   "cell_type": "code",
   "execution_count": 24,
   "metadata": {},
   "outputs": [
    {
     "data": {
      "text/plain": [
       "'<table border=\"1\" class=\"dataframe table table-striped\">\\n  <thead>\\n    <tr style=\"text-align: right;\">\\n      <th></th>\\n      <th>value</th>\\n    </tr>\\n    <tr>\\n      <th>description</th>\\n      <th></th>\\n    </tr>\\n  </thead>\\n  <tbody>\\n    <tr>\\n      <th>Equatorial Diameter:</th>\\n      <td>6,792 km</td>\\n    </tr>\\n    <tr>\\n      <th>Polar Diameter:</th>\\n      <td>6,752 km</td>\\n    </tr>\\n    <tr>\\n      <th>Mass:</th>\\n      <td>6.39 × 10^23 kg (0.11 Earths)</td>\\n    </tr>\\n    <tr>\\n      <th>Moons:</th>\\n      <td>2 (Phobos &amp; Deimos)</td>\\n    </tr>\\n    <tr>\\n      <th>Orbit Distance:</th>\\n      <td>227,943,824 km (1.38 AU)</td>\\n    </tr>\\n    <tr>\\n      <th>Orbit Period:</th>\\n      <td>687 days (1.9 years)</td>\\n    </tr>\\n    <tr>\\n      <th>Surface Temperature:</th>\\n      <td>-87 to -5 °C</td>\\n    </tr>\\n    <tr>\\n      <th>First Record:</th>\\n      <td>2nd millennium BC</td>\\n    </tr>\\n    <tr>\\n      <th>Recorded By:</th>\\n      <td>Egyptian astronomers</td>\\n    </tr>\\n  </tbody>\\n</table>'"
      ]
     },
     "execution_count": 24,
     "metadata": {},
     "output_type": "execute_result"
    }
   ],
   "source": [
    "url = 'https://space-facts.com/mars/'  \n",
    "browser.visit(url)\n",
    "html = browser.html\n",
    "soup = bs(html, 'html.parser') \n",
    "table = soup.find('table', attrs={\"class\":\"tablepress tablepress-id-p-mars\"})\n",
    "table_rows = table.find_all('tr')\n",
    "l = []\n",
    "for tr in table_rows:\n",
    "    td = tr.find_all('td')\n",
    "    row = [tr.text for tr in td]\n",
    "    l.append(row)\n",
    "table_df = pd.DataFrame(l, columns=[\"description\", \"value\"])\n",
    "table_df.set_index(\"description\",inplace=True)\n",
    "table_df\n",
    "table_df.to_html(classes=\"table table-striped\")"
   ]
  },
  {
   "cell_type": "code",
   "execution_count": 10,
   "metadata": {},
   "outputs": [
    {
     "data": {
      "text/plain": [
       "'6,792 km'"
      ]
     },
     "execution_count": 10,
     "metadata": {},
     "output_type": "execute_result"
    }
   ],
   "source": [
    "equatorial_diameter = table_df.loc[0,'B']  \n",
    "polar_diameter = table_df.loc[1,'B']  \n",
    "mass = table_df.loc[2,'B']  \n",
    "moons = table_df.loc[3,'B']  \n",
    "orbit_distance = table_df.loc[4,'B']  \n",
    "equatorial_diameter"
   ]
  },
  {
   "cell_type": "code",
   "execution_count": 11,
   "metadata": {
    "scrolled": true
   },
   "outputs": [
    {
     "name": "stdout",
     "output_type": "stream",
     "text": [
      "{'title': 'Cerberus Hemisphere Enhanced', 'img_url': 'https://astrogeology.usgs.gov/search/map/Mars/Viking/cerberus_enhanced/cache/images/cfa62af2557222a02478f1fcd781d445_cerberus_enhanced.tif_full.jpg'}, https://astrogeology.usgs.gov/search/map/Mars/Viking/schiaparelli_enhanced/cache/images/0eb84c5fa8ded69d32e9f213497a1960_schiaparelli_unenhanced.tif_full.jpg\n",
      "{'title': 'Valles Marineris Hemisphere Unenhanced', 'img_url': 'https://astrogeology.usgs.gov/search/map/Mars/Viking/valles_marineris_enhanced/cache/images/8981a6d7057a7634dc312c0448f462c1_valles_marineris_unenhanced.tif_full.jpg'}, https://astrogeology.usgs.gov/search/map/Mars/Viking/schiaparelli_enhanced/cache/images/0eb84c5fa8ded69d32e9f213497a1960_schiaparelli_unenhanced.tif_full.jpg\n",
      "{'title': 'Syrtis Major Hemisphere Unenhanced', 'img_url': 'https://astrogeology.usgs.gov/search/map/Mars/Viking/syrtis_major_enhanced/cache/images/4951731d09d453e340fccf70e43c5933_syrtis_major_unenhanced.tif_full.jpg'}, https://astrogeology.usgs.gov/search/map/Mars/Viking/schiaparelli_enhanced/cache/images/0eb84c5fa8ded69d32e9f213497a1960_schiaparelli_unenhanced.tif_full.jpg\n",
      "{'title': 'Schiaparelli Hemisphere Unenhanced', 'img_url': 'https://astrogeology.usgs.gov/search/map/Mars/Viking/schiaparelli_enhanced/cache/images/0eb84c5fa8ded69d32e9f213497a1960_schiaparelli_unenhanced.tif_full.jpg'}, https://astrogeology.usgs.gov/search/map/Mars/Viking/schiaparelli_enhanced/cache/images/0eb84c5fa8ded69d32e9f213497a1960_schiaparelli_unenhanced.tif_full.jpg\n"
     ]
    }
   ],
   "source": [
    "url = 'https://astrogeology.usgs.gov/search/results?q=hemisphere+enhanced&k1=target&v1=Mars' \n",
    "browser.visit(url)\n",
    "\n",
    "hemispheres = ['Cerberus Hemisphere', 'Valles Marineris Hemisphere', 'Syrtis Major Hemisphere', 'Schiaparelli Hemisphere']\n",
    "images = ['cerberus_enhanced', \"valles_marineris_enhanced\", 'syrtis_major_enhanced', 'schiaparelli_enhanced']\n",
    "hemisphere_image_urls = []\n",
    "\n",
    "for h, i in zip(hemispheres, images):\n",
    "    hemisphere_a = browser.find_link_by_partial_text(h)\n",
    "    hemisphere_a.click()\n",
    "    html = browser.html\n",
    "    soup = bs(html, 'html.parser')\n",
    "    img = soup.find('img',class_='wide-image').get('src')\n",
    "#     for i in images:\n",
    "    img_url = f'https://astrogeology.usgs.gov/search/map/Mars/Viking/{i}{img}'\n",
    "    title = soup.find(\"h2\",class_=\"title\").get_text()\n",
    "    hemisphere_image_urls.append( {\"title\":title, \"img_url\": img_url})\n",
    "#     i = i + 1\n",
    "for title in hemisphere_image_urls:\n",
    "    print(f'{title}, {img_url}')\n",
    "#   print(hemisphere_image_urls[title], hemisphere_image_urls[img_url])\n",
    "# urls_df = pd.DataFrame(hemisphere_image_urls, columns=['A', 'B'])\n",
    "# urls_df.head()\n",
    "\n",
    "#             hemisphere_image_urls = [\n",
    "#                  {'title': title, 'img_url': img_url}\n",
    "#              ]\n",
    "#              #db.items.insert_one(hemisphere_image_urls)\n",
    "\n"
   ]
  }
 ],
 "metadata": {
  "kernelspec": {
   "display_name": "Python 3",
   "language": "python",
   "name": "python3"
  },
  "language_info": {
   "codemirror_mode": {
    "name": "ipython",
    "version": 3
   },
   "file_extension": ".py",
   "mimetype": "text/x-python",
   "name": "python",
   "nbconvert_exporter": "python",
   "pygments_lexer": "ipython3",
   "version": "3.6.8"
  }
 },
 "nbformat": 4,
 "nbformat_minor": 2
}
